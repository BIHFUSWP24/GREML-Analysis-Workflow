{
 "cells": [
  {
   "cell_type": "code",
   "execution_count": 15,
   "id": "c0bd12e6-1fb1-4b59-b509-781cfb8bbb30",
   "metadata": {},
   "outputs": [],
   "source": [
    "#libraries\n",
    "import anndata\n",
    "from sklearn.decomposition import PCA\n",
    "from sklearn.manifold import TSNE\n",
    "import umap\n",
    "from sklearn.decomposition import KernelPCA\n",
    "import matplotlib.pyplot as plt\n",
    "import pandas as pd\n",
    "from scipy.spatial.distance import pdist, squareform\n",
    "import numpy as np\n",
    "import seaborn as sns"
   ]
  },
  {
   "cell_type": "code",
   "execution_count": null,
   "id": "2ece8642-c914-45bb-9396-c778ba1469eb",
   "metadata": {},
   "outputs": [],
   "source": [
    "data_path = '/sc-projects/sc-proj-dh-ag-eils-ml/genotype_data/900k_snp_chr1.h5ad'\n",
    "adata = anndata.read_h5ad(data_path, backed='r')\n",
    "\n",
    "print(adata.shape)\n",
    "print(adata.var_names) \n",
    "print(adata.obs_names)"
   ]
  },
  {
   "cell_type": "code",
   "execution_count": null,
   "id": "7475bb42-ef78-48a2-aacb-4c5158af8ca3",
   "metadata": {},
   "outputs": [],
   "source": [
    "# PCA\n",
    "pca = PCA(n_components=2)\n",
    "pca_results = pca.fit_transform(adata.X)\n",
    "pca_df = pd.DataFrame(pca_results, columns=['PCA1', 'PCA2'])\n",
    "pca_df.to_csv('results/pca_results.csv', index=False)\n",
    "\n",
    "plt.figure(figsize=(8, 6))\n",
    "plt.scatter(pca_results[:, 0], pca_results[:, 1], alpha=0.5)\n",
    "plt.title('PCA-Ergebnisse')\n",
    "plt.xlabel('PCA 1')\n",
    "plt.ylabel('PCA 2')\n",
    "plt.show()"
   ]
  },
  {
   "cell_type": "code",
   "execution_count": null,
   "id": "a5b81f0c-8c1e-4574-b7e0-233368bff7cd",
   "metadata": {},
   "outputs": [],
   "source": [
    "# t-SNE\n",
    "tsne = TSNE(n_components=2)\n",
    "tsne_results = tsne.fit_transform(adata.X)\n",
    "tsne_df = pd.DataFrame(tsne_results, columns=['TSNE1', 'TSNE2'])\n",
    "tsne_df.to_csv('results/tsne_results.csv', index=False)\n",
    "\n",
    "plt.scatter(tsne_results[:, 0], tsne_results[:, 1])\n",
    "plt.title('t-SNE Ergebnis')\n",
    "plt.xlabel('Dimension 1')\n",
    "plt.ylabel('Dimension 2')\n",
    "plt.show()"
   ]
  },
  {
   "cell_type": "code",
   "execution_count": null,
   "id": "43f7fae0-0689-45bb-8e03-b7f6e57ca606",
   "metadata": {},
   "outputs": [],
   "source": [
    "# UMAP\n",
    "reducer = umap.UMAP()\n",
    "umap_results = reducer.fit_transform(adata.X)\n",
    "umap_df = pd.DataFrame(umap_results, columns=['UMAP1', 'UMAP2'])\n",
    "umap_df.to_csv('results/umap_results.csv', index=False)\n",
    "\n",
    "plt.scatter(umap_results[:, 0], umap_results[:, 1])\n",
    "plt.title('UMAP Ergebnis')\n",
    "plt.xlabel('Dimension 1')\n",
    "plt.ylabel('Dimension 2')\n",
    "plt.show()"
   ]
  },
  {
   "cell_type": "code",
   "execution_count": null,
   "id": "951be05b-e530-4ecd-98ed-3b43239e6ba8",
   "metadata": {},
   "outputs": [],
   "source": [
    "# Kernel-PCA\n",
    "kernel_pca = KernelPCA(n_components=2, kernel='rbf')\n",
    "kernel_pca_results = kernel_pca.fit_transform(adata.X)\n",
    "kernel_pca_df = pd.DataFrame(kernel_pca_results, columns=['KernelPCA1', 'KernelPCA2'])\n",
    "kernel_pca_df.to_csv('results/kernel_pca_results.csv', index=False)\n",
    "\n",
    "plt.scatter(kernel_pca_results[:, 0], kernel_pca_results[:, 1])\n",
    "plt.title('Kernel PCA Ergebnis')\n",
    "plt.xlabel('Kernel Hauptkomponente 1')\n",
    "plt.ylabel('Kernel Hauptkomponente 2')\n",
    "plt.show()"
   ]
  },
  {
   "cell_type": "code",
   "execution_count": null,
   "id": "86c44338-30dd-43f5-a611-309963acfe25",
   "metadata": {},
   "outputs": [],
   "source": [
    "# Die suche nach richitge Hyperparameter \n",
    "X = adata.X\n",
    "\n",
    "pca = PCA(n_components=min(X.shape[0], X.shape[1]))\n",
    "pca.fit(X)\n",
    "\n",
    "cumulative_explained_variance = np.cumsum(pca.explained_variance_ratio_)\n",
    "\n",
    "plt.figure(figsize=(10, 6))\n",
    "plt.plot(cumulative_explained_variance, marker='o')\n",
    "plt.xlabel('Anzahl der Hauptkomponenten')\n",
    "plt.ylabel('Kumulative erklärte Varianz')\n",
    "plt.title('Kumulative erklärte Varianz durch PCA')\n",
    "plt.grid(True)\n",
    "plt.axhline(y=0.9, color='r', linestyle='--')\n",
    "plt.text(0, 0.91, '90% erklärte Varianz', color = 'red')\n",
    "plt.show()\n"
   ]
  },
  {
   "cell_type": "code",
   "execution_count": 13,
   "id": "d2faad9d-84f2-4bf0-b126-e7d1f0c7faa8",
   "metadata": {},
   "outputs": [],
   "source": [
    "# Berechn ung der Matrizen\n",
    "input_path = 'results/'\n",
    "output_path = 'matrices/'\n",
    "\n",
    "methods = ['pca', 'tsne', 'umap', 'kernel_pca']\n",
    "dfs = {method: pd.read_csv(f'{input_path}{method}_results.csv') for method in methods}\n",
    "\n",
    "def calculate_and_save_distance_matrix(df, method_name):\n",
    "    distance_matrix = squareform(pdist(df, 'euclidean'))\n",
    "    pd.DataFrame(distance_matrix).to_csv(f'{output_path}/{method_name}_distance_matrix.csv', index=False)\n",
    "\n",
    "for method, df in dfs.items():\n",
    "    calculate_and_save_distance_matrix(df, method)"
   ]
  },
  {
   "cell_type": "code",
   "execution_count": null,
   "id": "de69e77d-f254-44fe-a9e8-2d17ea16a59e",
   "metadata": {},
   "outputs": [],
   "source": [
    "# Visualisierung der Matrizen\n",
    "def visualize_distance_matrix(file_path, title):\n",
    "    matrix = pd.read_csv(file_path)\n",
    "    \n",
    "    plt.figure(figsize=(10, 8))\n",
    "    sns.heatmap(matrix, cmap='viridis')\n",
    "    plt.title(title)\n",
    "    plt.show()\n",
    "\n",
    "paths = [\n",
    "    'matrices/pca_distance_matrix.csv',\n",
    "    'matrices/tsne_distance_matrix.csv',\n",
    "    'matrices/umap_distance_matrix.csv',\n",
    "    'matrices/kernel_pca_distance_matrix.csv'\n",
    "]\n",
    "\n",
    "titles = ['PCA Distanzmatrix', 't-SNE Distanzmatrix', 'UMAP Distanzmatrix', 'Kernel-PCA Distanzmatrix']\n",
    "\n",
    "for path, title in zip(paths, titles):\n",
    "    visualize_distance_matrix(path, title)"
   ]
  }
 ],
 "metadata": {
  "kernelspec": {
   "display_name": "Python [conda env:.conda-hE] *",
   "language": "python",
   "name": "conda-env-.conda-hE-py"
  },
  "language_info": {
   "codemirror_mode": {
    "name": "ipython",
    "version": 3
   },
   "file_extension": ".py",
   "mimetype": "text/x-python",
   "name": "python",
   "nbconvert_exporter": "python",
   "pygments_lexer": "ipython3",
   "version": "3.9.15"
  }
 },
 "nbformat": 4,
 "nbformat_minor": 5
}
